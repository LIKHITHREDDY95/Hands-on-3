{
  "nbformat": 4,
  "nbformat_minor": 0,
  "metadata": {
    "colab": {
      "provenance": [],
      "authorship_tag": "ABX9TyP5Ik+t1ThmmyE1tF4Kvh94",
      "include_colab_link": true
    },
    "kernelspec": {
      "name": "python3",
      "display_name": "Python 3"
    },
    "language_info": {
      "name": "python"
    }
  },
  "cells": [
    {
      "cell_type": "markdown",
      "metadata": {
        "id": "view-in-github",
        "colab_type": "text"
      },
      "source": [
        "<a href=\"https://colab.research.google.com/github/LIKHITHREDDY95/Hands-on-3/blob/main/Merge_sort.ipynb\" target=\"_parent\"><img src=\"https://colab.research.google.com/assets/colab-badge.svg\" alt=\"Open In Colab\"/></a>"
      ]
    },
    {
      "cell_type": "code",
      "execution_count": 1,
      "metadata": {
        "id": "JBoW7jBB738r",
        "colab": {
          "base_uri": "https://localhost:8080/"
        },
        "outputId": "ec146b0e-a036-4277-da7d-9cc9ac090b80"
      },
      "outputs": [
        {
          "output_type": "stream",
          "name": "stdout",
          "text": [
            "[1, 2, 2, 3, 4, 5, 6, 7]\n"
          ]
        }
      ],
      "source": [
        "def merge_sort(items):\n",
        "    def split_and_merge(start, end):\n",
        "        if end - start <= 1:\n",
        "            return\n",
        "\n",
        "        mid = (start + end) // 2\n",
        "        split_and_merge(start, mid)\n",
        "        split_and_merge(mid, end)\n",
        "\n",
        "        left_half = items[start:mid]\n",
        "        right_half = items[mid:end]\n",
        "\n",
        "        left_index = right_index = 0\n",
        "        current_index = start\n",
        "\n",
        "        while left_index < len(left_half) and right_index < len(right_half):\n",
        "            if left_half[left_index] <= right_half[right_index]:\n",
        "                items[current_index] = left_half[left_index]\n",
        "                left_index += 1\n",
        "            else:\n",
        "                items[current_index] = right_half[right_index]\n",
        "                right_index += 1\n",
        "            current_index += 1\n",
        "\n",
        "        while left_index < len(left_half):\n",
        "            items[current_index] = left_half[left_index]\n",
        "            left_index += 1\n",
        "            current_index += 1\n",
        "\n",
        "        while right_index < len(right_half):\n",
        "            items[current_index] = right_half[right_index]\n",
        "            right_index += 1\n",
        "            current_index += 1\n",
        "\n",
        "    split_and_merge(0, len(items))\n",
        "    return items\n",
        "\n",
        "if __name__ == \"__main__\":\n",
        "    test_array = [5, 2, 4, 7, 1, 3, 2, 6]\n",
        "    sorted_array = merge_sort(test_array)\n",
        "    print(f\"Sorted array: {sorted_array}\")\n"
      ]
    }
  ]
}