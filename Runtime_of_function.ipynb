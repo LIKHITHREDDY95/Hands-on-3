{
  "nbformat": 4,
  "nbformat_minor": 0,
  "metadata": {
    "colab": {
      "provenance": [],
      "authorship_tag": "ABX9TyOsx7urNriyeGNP691AqUj5",
      "include_colab_link": true
    },
    "kernelspec": {
      "name": "python3",
      "display_name": "Python 3"
    },
    "language_info": {
      "name": "python"
    }
  },
  "cells": [
    {
      "cell_type": "markdown",
      "metadata": {
        "id": "view-in-github",
        "colab_type": "text"
      },
      "source": [
        "<a href=\"https://colab.research.google.com/github/LIKHITHREDDY95/Hands-on-3/blob/main/Runtime_of_function.ipynb\" target=\"_parent\"><img src=\"https://colab.research.google.com/assets/colab-badge.svg\" alt=\"Open In Colab\"/></a>"
      ]
    },
    {
      "cell_type": "code",
      "execution_count": null,
      "metadata": {
        "id": "iQ2Lj-IfYN9F"
      },
      "outputs": [],
      "source": [
        "import time\n",
        "import matplotlib.pyplot as plt\n",
        "import numpy as np\n",
        "from scipy.optimize import curve_fit\n",
        "\n",
        "# Define the function f(n)\n",
        "def f(n):\n",
        "    x = 1\n",
        "    for i in range(n):\n",
        "        for j in range(n):\n",
        "            x += 1\n",
        "    return x\n",
        "def measure_time(n):\n",
        "    start_time = time.time()\n",
        "    f(n)\n",
        "    end_time = time.time()\n",
        "    return end_time - start_time\n",
        "\n",
        "\n",
        "n_values = list(range(1, 201 , 5))\n",
        "times = [measure_time(n) for n in n_values]\n",
        "\n",
        "\n",
        "plt.plot(n_values, times, 'o', label='Data')\n",
        "\n",
        "\n",
        "def quadratic(x, a, b, c):\n",
        "    return a * x**2 + b * x + c\n",
        "\n",
        "params, _ = curve_fit(quadratic, n_values, times)\n",
        "fitted_times = quadratic(np.array(n_values), *params)\n",
        "\n",
        "plt.plot(n_values, fitted_times, '-', label='Fitted Curve')\n",
        "\n",
        "plt.xlabel('n')\n",
        "plt.ylabel('Time (seconds)')\n",
        "plt.legend()\n",
        "plt.title('Execution Time of f(n) vs n')\n",
        "plt.show()\n",
        "\n",
        "\n",
        "print(f\"Fitted parameters: a={params[1]}, b={params[1]}, c={params[2]}\")\n"
      ]
    }
  ]
}